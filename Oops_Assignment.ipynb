{
  "nbformat": 4,
  "nbformat_minor": 0,
  "metadata": {
    "colab": {
      "provenance": []
    },
    "kernelspec": {
      "name": "python3",
      "display_name": "Python 3"
    },
    "language_info": {
      "name": "python"
    }
  },
  "cells": [
    {
      "cell_type": "markdown",
      "source": [
        "Q1- What is Object-Oriented Programming (OOP)?\n",
        "Answer (Q1)- Object-Oriented Programming (OOP) is a programming paradigm that organizes software design around data, or objects, rather than functions and logic. An object is a self-contained unit that consists of both data (attributes) and methods (functions) that operate on the data. OOP is based on several key principles, including encapsulation, inheritance, polymorphism, and abstraction. These principles help in building modular, reusable, and maintainable code. Encapsulation hides the internal state of objects and only exposes what is necessary, inheritance allows new classes to acquire properties of existing ones, polymorphism enables the same method to behave differently depending on the context, and abstraction allows hiding complex implementation details. OOP is commonly used in many programming languages like Java, Python, C++, and C#, and it closely models real-world entities, making it intuitive and efficient for complex software development.\n",
        "\n",
        "Q2- What is a class in OOP?\n",
        "Answer (Q2)- A class in Object-Oriented Programming (OOP) is a blueprint or template for creating objects. It defines a set of attributes (also called properties or data members) and methods (functions) that the created objects will have. A class does not represent actual data by itself but serves as a structure to instantiate multiple objects with similar behavior. For example, a Car class might include attributes like color, brand, and speed, and methods like start(), accelerate(), and brake(). When we create an object (also called an instance) from this class, it will have its own specific values for those attributes and access to the defined methods. In Python, a class is defined using the class keyword, while in Java or C++, similar syntax is used with different conventions. Classes promote code reusability, modularity, and scalability, making them a core component of OOP.\n",
        "\n",
        "Q3- What is an object in OOP?\n",
        "Answer (Q3)- In Python and Object-Oriented Programming (OOP), an object is an instance of a class. It is a real-world entity that has data (attributes) and behavior (methods) defined by the class it is created from.\n",
        "For example, if we have a class called Car, you can create an object like my_car = Car(). Here, my_car is an object of the Car class. This object can have specific values for attributes like color = \"red\" or speed = 100, and it can perform actions using methods like start() or brake().\n",
        "In simple terms:\n",
        "1. Class is like a blueprint, and\n",
        "2.  Object is like the actual thing built from that blueprint.\n",
        "\n",
        "Q4- What is the difference between abstraction and encapsulation?\n",
        "Answer (Q4)- Abstraction and encapsulation are two important concepts in Object-Oriented Programming (OOP), but they serve different purposes:\n",
        "Abstraction: - Abstraction means hiding the complex implementation details and showing only the necessary features to the user. It helps in focusing on what an object does instead of how it does it. For example, when we use a print() function, you don’t need to know how it works internally. You just know it prints something. Main Purpose: Simplifies complexity by exposing only essential details.\n",
        "Encapsulation: - Encapsulation means wrapping data (variables) and methods (functions) together into a single unit (class) and restricting direct access to some components. For example, Using private variables like self.__balance in a BankAccount class, and accessing them through methods like deposit() or get_balance(). Main Purpose: Protects the data by controlling how it's accessed or modified.\n",
        "\n",
        "Q5- What are dunder methods in Python?\n",
        "Answer (Q5)- Dunder methods in Python, also known as magic methods or special methods, are built-in methods that have double underscores at the beginning and end of their names (like __init__, __str__, __len__, etc.). These methods are automatically called by Python to perform specific tasks, such as object creation, string representation, arithmetic operations, and comparisons. For example, the __init__ method is called when an object is created and is used to initialize its attributes, while the __str__ method is used when you print an object to provide a readable string output. You don’t call these methods directly; instead, they are triggered by Python when we use certain functions or operators. Dunder methods help you define how your custom objects should behave in various situations, making your classes more intuitive and easier to work with.\n",
        "\n",
        "\n",
        "\n",
        "Q6- Explain the concept of inheritance in OOP?\n",
        "Answer (Q6)- Inheritance in Object-Oriented Programming (OOP) is a fundamental concept that allows one class to acquire the properties and behaviors of another class. The class that inherits is called the child class or subclass, and the class being inherited from is known as the parent class or superclass. Inheritance helps in reusing existing code, making programs more efficient and easier to maintain. For example, if there is a parent class Animal with a method speak(), a child class Dog can inherit this method without writing it again, and can also override it to provide its own version. In Python, inheritance is implemented by placing the parent class name in parentheses after the child class name. This allows the child class to use or extend the functionality of the parent class. Overall, inheritance promotes code reuse, reduces redundancy, and supports hierarchical relationships between classes.\n",
        "\n",
        "Q7- What is polymorphism in OOP?\n",
        "Answer (Q7)- Polymorphism in Object-Oriented Programming (OOP) means having the ability to take many forms. It allows different classes to define methods with the same name but with different implementations. This helps us write flexible and reusable code. For example, we may create a base class Bird with a method fly(). Then, subclasses like Sparrow and Penguin can each define their own version of fly(). When we call fly() on a Sparrow object, it performs flying behavior, while a Penguin object might display a message that penguins cannot fly. The method behaves differently depending on the object.\n",
        "\n",
        "Q8- How is encapsulation achieved in Python?\n",
        "Answer (Q8)- Encapsulation in Python is achieved by wrapping the data (attributes) and the code (methods) that operates on the data within a single unit, i.e., a class. We can make data private by prefixing an attribute with double underscores (e.g., __balance). This hides it from outside access. Instead, we provide public methods like get_balance() or deposit() to interact with the data. This way, we can control how the internal state of an object is accessed or modified, ensuring data security and integrity.\n",
        "\n",
        "Q9- What is a constructor in Python?\n",
        "Answer (Q9)- A constructor in Python is a special method called __init__() that is automatically invoked when we create an object from a class. Its main purpose is to initialize the attributes of the object. For example, in a class Student, we can define an __init__() method to accept and assign values to attributes like name and roll_number. When we create an object like s1 = Student(\"Ankit\", 101), the constructor sets up the object with the given data.\n",
        "\n",
        "Q10- What are class and static methods in Python?\n",
        "Answer (Q10)- In Python, a class method is defined using the @classmethod decorator and takes cls as its first parameter, referring to the class itself. It can access or modify class-level variables. A static method, on the other hand, is defined using the @staticmethod decorator and does not take self or cls as a parameter. It behaves like a regular function within the class and is used when we want to perform an operation that is related to the class but does not need to access instance or class variables.\n",
        "\n",
        "Q11- What is method overloading in Python?\n",
        "Answer (Q11)- Method overloading in Python refers to defining multiple methods with the same name but different parameters. However, Python does not support true method overloading like some other languages. Instead, we can achieve it by using default parameter values or *args and **args to accept a variable number of arguments. We can then handle different cases inside a single method by writing conditional logic based on the arguments received.\n",
        "\n",
        "Q12- What is method overriding in OOP?\n",
        "Answer (Q12)- Method overriding is the ability of a subclass to provide a specific implementation of a method that is already defined in its parent class. When we create a subclass and define a method with the same name as in the parent class, the new method overrides the parent’s version. This is useful when we want a child class to modify or extend the behavior of the inherited method. For example, we might have a Vehicle class with a method start(), and the Car subclass can override start() to display “Car is starting.”\n",
        "\n",
        "Q13- What is a property decorator in Python?\n",
        "Answer (Q13)- A property decorator in Python is used to define a method as a property, allowing us to access it like an attribute while still executing code. We use the @property decorator to create a getter, and @method_name.setter to define a setter. This helps in controlling attribute access and validation. For example, in a class Temperature, we can use @property to get the temperature in Celsius while calculating and storing the value in Fahrenheit internally.\n",
        "\n",
        "Q14- Why is polymorphism important in OOP?\n",
        "Answer (Q14)- Polymorphism is important in OOP because it allows us to write general code that works with objects of different classes. It simplifies code maintenance and enhances flexibility by allowing objects to be treated as instances of their parent class. This means we can write one function that calls a method like draw() on a list of different shapes (circle, rectangle, triangle), and each object will respond in its own way. It makes our code more organized and adaptable.\n",
        "\n",
        "Q15- What is an abstract class in Python?\n",
        "Answer (Q15)- An abstract class in Python is a class that cannot be instantiated directly and is meant to be inherited by other classes. It is defined using the abc module and must contain at least one abstract method, which is declared using the @abstractmethod decorator. Abstract classes provide a blueprint for subclasses, ensuring that certain methods must be implemented. For example, we can define an abstract class Shape with an abstract method area(), which must be implemented by all subclasses like Circle or Rectangle.\n",
        "\n",
        "Q16- What are the advantages of OOP?\n",
        "Answer (Q16)- Object-Oriented Programming offers several advantages. It promotes code reusability through inheritance, modularity by organizing code into classes, and data security using encapsulation. OOP also enhances scalability, making it easier to manage large projects. Features like polymorphism allow us to write flexible and maintainable code. Overall, OOP helps in modeling real-world problems efficiently and leads to clean, well-structured, and maintainable code.\n",
        "\n",
        "Q17- What is the difference between a class variable and an instance variable?\n",
        "Answer (Q17)- A class variable is shared among all instances of a class, while an instance variable is unique to each object. Class variables are defined inside the class but outside any methods, and changes to them affect all objects. Instance variables are usually defined in the constructor (__init__) using self. For example, we can have a class variable school_name that is common to all students, and an instance variable name that is specific to each student object.\n",
        "\n",
        "\n",
        "Q18- What is multiple inheritance in Python?\n",
        "Answer (Q18)- Multiple inheritance in Python means a class can inherit from more than one parent class. This allows the child class to access attributes and methods from all the parent classes. For example, we can create a class StudentAthlete that inherits from both Student and Athlete. While powerful, multiple inheritance can sometimes cause confusion or conflicts, especially if the parent classes have methods with the same name. Python handles this using a rule called Method Resolution Order (MRO).\n",
        "\n",
        "Q19- Explain the purpose of __str__ and __repr__ methods in Python.\n",
        "Answer (Q19)- The __str__ and __repr__ methods in Python are dunder methods used to define string representations of objects. The __str__ method is called by the print() function and should return a user-friendly string. The __repr__ method is called when we use repr() or inspect the object in the console, and it should return a developer-friendly string that ideally can be used to recreate the object. If only __repr__ is defined, it is also used as the default for __str__.\n",
        "\n",
        "Q20- What is the significance of the super() function in Python?\n",
        "Answer (Q20)- The super() function in Python is used to call a method from the parent class in a child class. It is especially useful when we override a method in the child class but still want to use the parent class’s version of that method. For example, inside a constructor in a child class, we can use super().__init__() to initialize the parent class’s attributes. It helps in maintaining cleaner and more maintainable code in inheritance hierarchies.\n",
        "\n",
        "Q21- What is the significance of the __del__ method in Python?\n",
        "Answer (Q21)- The __del__ method in Python is a special method known as a destructor. It is called automatically when an object is about to be destroyed or deleted. This method is typically used to clean up resources, such as closing files or releasing memory. However, its use is rare and should be handled carefully because the timing of its execution is managed by Python’s garbage collector and may not always be predictable.\n",
        "\n",
        "\n",
        "\n",
        "Q22- What is the difference between @staticmethod and @classmethod in Python?\n",
        "Answer (Q22)- A @staticmethod is a method that does not access any class or instance-specific data. It behaves like a regular function but belongs to the class’s namespace. A @classmethod, on the other hand, takes cls as its first argument and can access and modify class-level data. We use static methods when we want to perform utility tasks, and class methods when we want to perform operations that affect the class as a whole, such as creating objects in different ways.\n",
        "\n",
        "Q23- How does polymorphism work in Python with inheritance?\n",
        "Answer (Q23)- In Python, polymorphism with inheritance allows child classes to override methods from a parent class. When we create a reference to the parent class and assign it an object of a child class, the child’s method is called. This enables the same function or method to work with different types of objects. For example, if a parent class has a method speak(), and two child classes override it differently, calling speak() on each object will produce behavior specific to that object’s class.\n",
        "\n",
        "Q24- What is method chaining in Python OOP?\n",
        "Answer (Q24)- Method chaining in Python OOP is a technique where we call multiple methods on the same object in a single line. This is done by having each method return self (the current object). It helps in writing clean and readable code. For example, we can write obj.set_name(\"Amit\").set_age(25).show() to chain multiple method calls. Each method performs its task and returns the object itself, allowing the next method to be called immediately.\n",
        "\n",
        "Q25- What is the purpose of the __call__ method in Python?\n",
        "Answer (Q25)- The __call__ method in Python allows an object to be called like a function. When we define __call__ in a class, we can use the object itself as if it were a function. This is useful in scenarios where we want an object to perform an action directly. For example, we might define a class Multiplier with a __call__ method that multiplies two numbers. After creating an object m = Multiplier(), we can call m(2, 3) to get the result just like a regular function.\n"
      ],
      "metadata": {
        "id": "K7GKO8B6Z2Y1"
      }
    },
    {
      "cell_type": "code",
      "execution_count": null,
      "metadata": {
        "colab": {
          "base_uri": "https://localhost:8080/"
        },
        "id": "0mXTyvx2x95i",
        "outputId": "11c767b9-68e7-434b-a722-3409bbadbbb7"
      },
      "outputs": [
        {
          "output_type": "stream",
          "name": "stdout",
          "text": [
            "Animal makes a sound.\n",
            "Bark!\n"
          ]
        }
      ],
      "source": [
        "# Q1- Create a parent class Animal with a method speak() that prints a generic message. Create a child class Dog that overrides the speak() method to print \"Bark!\"\n",
        "# Answer (Q1)-\n",
        "# Parent class\n",
        "class Animal:\n",
        "    def speak(self):\n",
        "        print(\"Animal makes a sound.\")\n",
        "\n",
        "# Child class\n",
        "class Dog(Animal):\n",
        "    def speak(self):\n",
        "        print(\"Bark!\")\n",
        "\n",
        "# Creating objects\n",
        "animal = Animal()\n",
        "animal.speak()\n",
        "\n",
        "dog = Dog()\n",
        "dog.speak()"
      ]
    },
    {
      "cell_type": "code",
      "source": [
        "# Q2- Write a program to create an abstract class Shape with a method area(). Derive classes Circle and Rectangle from it and implement the area() method in both.\n",
        "# Answer (Q2)-\n",
        "from abc import ABC, abstractmethod\n",
        "import math\n",
        "\n",
        "# Abstract base class\n",
        "class Shape(ABC):\n",
        "    @abstractmethod\n",
        "    def area(self):\n",
        "        pass\n",
        "\n",
        "# Derived class for Circle\n",
        "class Circle(Shape):\n",
        "    def __init__(self, radius):\n",
        "        self.radius = radius\n",
        "\n",
        "    def area(self):\n",
        "        return math.pi * self.radius ** 2\n",
        "\n",
        "# Derived class for Rectangle\n",
        "class Rectangle(Shape):\n",
        "    def __init__(self, length, width):\n",
        "        self.length = length\n",
        "        self.width = width\n",
        "\n",
        "    def area(self):\n",
        "        return self.length * self.width\n",
        "\n",
        "# Example usage\n",
        "c = Circle(5)\n",
        "print(\"Area of Circle:\", c.area())\n",
        "\n",
        "r = Rectangle(4, 6)\n",
        "print(\"Area of Rectangle:\", r.area())\n",
        "\n"
      ],
      "metadata": {
        "colab": {
          "base_uri": "https://localhost:8080/"
        },
        "id": "6sQVwdpKyZ9_",
        "outputId": "1ac87c38-ba7b-42e0-e9d4-163f71bbd307"
      },
      "execution_count": null,
      "outputs": [
        {
          "output_type": "stream",
          "name": "stdout",
          "text": [
            "Area of Circle: 78.53981633974483\n",
            "Area of Rectangle: 24\n"
          ]
        }
      ]
    },
    {
      "cell_type": "code",
      "source": [
        "# Q3- Implement a multi-level inheritance scenario where a class Vehicle has an attribute type. Derive a class Car and further derive a class ElectricCar that adds a battery attribute.\n",
        "# Answer (Q3)-\n",
        "# Base class\n",
        "class Vehicle:\n",
        "    def __init__(self, vehicle_type):\n",
        "        self.vehicle_type = vehicle_type\n",
        "\n",
        "    def show_type(self):\n",
        "        print(\"Vehicle Type:\", self.vehicle_type)\n",
        "\n",
        "# First level derived class\n",
        "class Car(Vehicle):\n",
        "    def __init__(self, vehicle_type, brand):\n",
        "        super().__init__(vehicle_type)\n",
        "        self.brand = brand\n",
        "\n",
        "    def show_brand(self):\n",
        "        print(\"Car Brand:\", self.brand)\n",
        "\n",
        "# Second level derived class\n",
        "class ElectricCar(Car):\n",
        "    def __init__(self, vehicle_type, brand, battery_capacity):\n",
        "        super().__init__(vehicle_type, brand)\n",
        "        self.battery_capacity = battery_capacity\n",
        "\n",
        "    def show_battery(self):\n",
        "        print(\"Battery Capacity:\", self.battery_capacity, \"kWh\")\n",
        "\n",
        "# Example usage\n",
        "ecar = ElectricCar(\"Four Wheeler\", \"Tesla\", 75)\n",
        "\n",
        "ecar.show_type()\n",
        "ecar.show_brand()\n",
        "ecar.show_battery()\n"
      ],
      "metadata": {
        "colab": {
          "base_uri": "https://localhost:8080/"
        },
        "id": "pVMIZQXPyyj9",
        "outputId": "76a924ad-28a7-4715-bd43-bc23b10e0c57"
      },
      "execution_count": null,
      "outputs": [
        {
          "output_type": "stream",
          "name": "stdout",
          "text": [
            "Vehicle Type: Four Wheeler\n",
            "Car Brand: Tesla\n",
            "Battery Capacity: 75 kWh\n"
          ]
        }
      ]
    },
    {
      "cell_type": "code",
      "source": [
        "# Q4- Demonstrate polymorphism by creating a base class Bird with a method fly(). Create two derived classes Sparrow and Penguin that override the fly() method.\n",
        "# Answer (Q4)-\n",
        "# Base class\n",
        "class Bird:\n",
        "    def fly(self):\n",
        "        print(\"Some birds can fly.\")\n",
        "\n",
        "# Derived class 1\n",
        "class Sparrow(Bird):\n",
        "    def fly(self):\n",
        "        print(\"Sparrow flies high in the sky.\")\n",
        "\n",
        "# Derived class 2\n",
        "class Penguin(Bird):\n",
        "    def fly(self):\n",
        "        print(\"Penguin cannot fly, it swims.\")\n",
        "\n",
        "# Function to demonstrate polymorphism\n",
        "def bird_flight(bird):\n",
        "    bird.fly()\n",
        "\n",
        "# Example usage\n",
        "b1 = Sparrow()\n",
        "b2 = Penguin()\n",
        "\n",
        "bird_flight(b1)\n",
        "bird_flight(b2)\n"
      ],
      "metadata": {
        "colab": {
          "base_uri": "https://localhost:8080/"
        },
        "id": "kcK0RzcIzGM1",
        "outputId": "d848e8d5-ad60-4978-c298-2a58e0705cb2"
      },
      "execution_count": null,
      "outputs": [
        {
          "output_type": "stream",
          "name": "stdout",
          "text": [
            "Sparrow flies high in the sky.\n",
            "Penguin cannot fly, it swims.\n"
          ]
        }
      ]
    },
    {
      "cell_type": "code",
      "source": [
        "# Q5- Write a program to demonstrate encapsulation by creating a class BankAccount with private attributes balance and methods to deposit, withdraw, and check balance.\n",
        "# Answer (Q5)-\n",
        "class BankAccount:\n",
        "    def __init__(self):\n",
        "        self.__balance = 0  # Private attribute\n",
        "\n",
        "    def deposit(self, amount):\n",
        "        if amount > 0:\n",
        "            self.__balance += amount\n",
        "\n",
        "    def withdraw(self, amount):\n",
        "        if 0 < amount <= self.__balance:\n",
        "            self.__balance -= amount\n",
        "\n",
        "    def get_balance(self):\n",
        "        return self.__balance\n",
        "\n",
        "# Example usage\n",
        "acc = BankAccount()\n",
        "acc.deposit(1000)\n",
        "acc.withdraw(300)\n",
        "print(\"Balance:\", acc.get_balance())\n"
      ],
      "metadata": {
        "colab": {
          "base_uri": "https://localhost:8080/"
        },
        "id": "TW5hNvmWzZOQ",
        "outputId": "c36bab37-9ec5-4ea1-f233-756af7bc1162"
      },
      "execution_count": null,
      "outputs": [
        {
          "output_type": "stream",
          "name": "stdout",
          "text": [
            "Balance: 700\n"
          ]
        }
      ]
    },
    {
      "cell_type": "code",
      "source": [
        "# Q6- Demonstrate runtime polymorphism using a method play() in a base class Instrument. Derive classes Guitar and Piano that implement their own version of play().\n",
        "# Answer (Q6)-\n",
        "class Instrument:\n",
        "    def play(self):\n",
        "        print(\"Playing an instrument.\")\n",
        "\n",
        "class Guitar(Instrument):\n",
        "    def play(self):\n",
        "        print(\"Playing the guitar.\")\n",
        "\n",
        "class Piano(Instrument):\n",
        "    def play(self):\n",
        "        print(\"Playing the piano.\")\n",
        "\n",
        "# Example usage\n",
        "def start_playing(instrument):\n",
        "    instrument.play()\n",
        "\n",
        "start_playing(Guitar())\n",
        "start_playing(Piano())\n"
      ],
      "metadata": {
        "colab": {
          "base_uri": "https://localhost:8080/"
        },
        "id": "BLGgsaIEz07e",
        "outputId": "0fce0770-556d-4ecb-ad6b-7c8125151d75"
      },
      "execution_count": null,
      "outputs": [
        {
          "output_type": "stream",
          "name": "stdout",
          "text": [
            "Playing the guitar.\n",
            "Playing the piano.\n"
          ]
        }
      ]
    },
    {
      "cell_type": "code",
      "source": [
        "# Q7- Create a class MathOperations with a class method add_numbers() to add two numbers and a static method subtract_numbers() to subtract two numbers.\n",
        "# Answer (Q7)-\n",
        "class MathOperations:\n",
        "    @classmethod\n",
        "    def add_numbers(cls, a, b):\n",
        "        return a + b\n",
        "\n",
        "    @staticmethod\n",
        "    def subtract_numbers(a, b):\n",
        "        return a - b\n",
        "\n",
        "# Example usage\n",
        "print(\"Addition:\", MathOperations.add_numbers(10, 5))\n",
        "print(\"Subtraction:\", MathOperations.subtract_numbers(10, 5))\n"
      ],
      "metadata": {
        "colab": {
          "base_uri": "https://localhost:8080/"
        },
        "id": "Erl2BODk0D3E",
        "outputId": "88fa2037-ca02-48fd-a0b4-488f28ca21fb"
      },
      "execution_count": null,
      "outputs": [
        {
          "output_type": "stream",
          "name": "stdout",
          "text": [
            "Addition: 15\n",
            "Subtraction: 5\n"
          ]
        }
      ]
    },
    {
      "cell_type": "code",
      "source": [
        "# Q8- Implement a class Person with a class method to count the total number of persons created.\n",
        "# Answer (Q8)-\n",
        "\n",
        "class Person:\n",
        "    count = 0\n",
        "\n",
        "    def __init__(self, name):\n",
        "        self.name = name\n",
        "        Person.count += 1\n",
        "\n",
        "    @classmethod\n",
        "    def total_persons(cls):\n",
        "        return cls.count\n",
        "\n",
        "# Example usage\n",
        "p1 = Person(\"Anu\")\n",
        "p2 = Person(\"Ravi\")\n",
        "print(\"Total Persons:\", Person.total_persons())\n"
      ],
      "metadata": {
        "colab": {
          "base_uri": "https://localhost:8080/"
        },
        "id": "tMcOSf-r0tE7",
        "outputId": "08315bb4-54f1-4fb9-b216-df8e51476513"
      },
      "execution_count": null,
      "outputs": [
        {
          "output_type": "stream",
          "name": "stdout",
          "text": [
            "Total Persons: 2\n"
          ]
        }
      ]
    },
    {
      "cell_type": "code",
      "source": [
        "# Q9- Write a class Fraction with attributes numerator and denominator. Override the __str__ method to display the fraction as \"numerator/denominator\".\n",
        "# Answer (Q9)-\n",
        "class Fraction:\n",
        "    def __init__(self, numerator, denominator):\n",
        "        self.numerator = numerator\n",
        "        self.denominator = denominator\n",
        "\n",
        "    def __str__(self):\n",
        "        return f\"{self.numerator}/{self.denominator}\"\n",
        "\n",
        "# Example usage\n",
        "f = Fraction(3, 4)\n",
        "print(f)\n"
      ],
      "metadata": {
        "colab": {
          "base_uri": "https://localhost:8080/"
        },
        "id": "M8nMpuec09vm",
        "outputId": "1b0f6103-a906-4445-d4c6-570466e7eb2f"
      },
      "execution_count": null,
      "outputs": [
        {
          "output_type": "stream",
          "name": "stdout",
          "text": [
            "3/4\n"
          ]
        }
      ]
    },
    {
      "cell_type": "code",
      "source": [
        "# Q10- Demonstrate operator overloading by creating a class Vector and overriding the + method to add two vectors.\n",
        "# Answer (Q10)-\n",
        "class Vector:\n",
        "    def __init__(self, x, y):\n",
        "        self.x = x\n",
        "        self.y = y\n",
        "\n",
        "    def __add__(self, other):\n",
        "        return Vector(self.x + other.x, self.y + other.y)\n",
        "\n",
        "    def __str__(self):\n",
        "        return f\"({self.x}, {self.y})\"\n",
        "\n",
        "# Example usage\n",
        "v1 = Vector(1, 2)\n",
        "v2 = Vector(3, 4)\n",
        "v3 = v1 + v2\n",
        "print(v3)\n"
      ],
      "metadata": {
        "colab": {
          "base_uri": "https://localhost:8080/"
        },
        "id": "I_SPqNHp1Lad",
        "outputId": "24a2ca6d-d60a-4b6b-c571-439f9a10a594"
      },
      "execution_count": null,
      "outputs": [
        {
          "output_type": "stream",
          "name": "stdout",
          "text": [
            "(4, 6)\n"
          ]
        }
      ]
    },
    {
      "cell_type": "code",
      "source": [
        "# Q11- Create a class Person with attributes name and age. Add a method greet() that prints \"Hello, my name is {name} and I am {age} years old.\"\n",
        "# Answer (Q11)-\n",
        "class Person:\n",
        "    def __init__(self, name, age):\n",
        "        self.name = name\n",
        "        self.age = age\n",
        "\n",
        "    def greet(self):\n",
        "        print(f\"Hello, my name is {self.name} and I am {self.age} years old.\")\n",
        "\n",
        "# Example usage\n",
        "p = Person(\"Paras Jain\", 28)\n",
        "p.greet()\n"
      ],
      "metadata": {
        "colab": {
          "base_uri": "https://localhost:8080/"
        },
        "id": "mgCafMth1bmz",
        "outputId": "98e34860-de6a-42c6-81ce-68bded83f9a3"
      },
      "execution_count": null,
      "outputs": [
        {
          "output_type": "stream",
          "name": "stdout",
          "text": [
            "Hello, my name is Paras Jain and I am 28 years old.\n"
          ]
        }
      ]
    },
    {
      "cell_type": "code",
      "source": [
        "# Q12- Implement a class Student with attributes name and grades. Create a method average_grade() to compute the average of the grades.\n",
        "# Answer (Q12)-\n",
        "class Student:\n",
        "    def __init__(self, name, grades):\n",
        "        self.name = name\n",
        "        self.grades = grades\n",
        "\n",
        "    def average_grade(self):\n",
        "        return sum(self.grades) / len(self.grades)\n",
        "\n",
        "# Example usage\n",
        "s = Student(\"Meena\", [80, 90, 85])\n",
        "print(\"Average Grade:\", s.average_grade())\n"
      ],
      "metadata": {
        "colab": {
          "base_uri": "https://localhost:8080/"
        },
        "id": "zqJzOxPI1xrK",
        "outputId": "57c2cac5-db47-40f4-ef48-2db4960b6044"
      },
      "execution_count": null,
      "outputs": [
        {
          "output_type": "stream",
          "name": "stdout",
          "text": [
            "Average Grade: 85.0\n"
          ]
        }
      ]
    },
    {
      "cell_type": "code",
      "source": [
        "# Q13- Create a class Rectangle with methods set_dimensions() to set the dimensions and area() to calculate the area.\n",
        "# Answer (Q13)-\n",
        "class Rectangle:\n",
        "    def set_dimensions(self, length, width):\n",
        "        self.length = length\n",
        "        self.width = width\n",
        "\n",
        "    def area(self):\n",
        "        return self.length * self.width\n",
        "\n",
        "# Example usage\n",
        "r = Rectangle()\n",
        "r.set_dimensions(5, 3)\n",
        "print(\"Area:\", r.area())\n"
      ],
      "metadata": {
        "colab": {
          "base_uri": "https://localhost:8080/"
        },
        "id": "5-G8x-tk1_ec",
        "outputId": "d59cc9b2-2c22-45c3-ded3-e5dc00eb2f2d"
      },
      "execution_count": null,
      "outputs": [
        {
          "output_type": "stream",
          "name": "stdout",
          "text": [
            "Area: 15\n"
          ]
        }
      ]
    },
    {
      "cell_type": "code",
      "source": [
        "# Q14- Create a class Employee with a method calculate_salary() that computes the salary based on hours worked and hourly rate. Create a derived class Manager that adds a bonus to the salary.\n",
        "# Answer (Q14)-\n",
        "\n",
        "# Base class\n",
        "class Employee:\n",
        "    def __init__(self, hours_worked, hourly_rate):\n",
        "        self.hours_worked = hours_worked\n",
        "        self.hourly_rate = hourly_rate\n",
        "\n",
        "    def calculate_salary(self):\n",
        "        return self.hours_worked * self.hourly_rate\n",
        "\n",
        "# Derived class\n",
        "class Manager(Employee):\n",
        "    def __init__(self, hours_worked, hourly_rate, bonus):\n",
        "        super().__init__(hours_worked, hourly_rate)\n",
        "        self.bonus = bonus\n",
        "\n",
        "    def calculate_salary(self):\n",
        "        return super().calculate_salary() + self.bonus\n",
        "\n",
        "# Example usage\n",
        "e = Employee(40, 100)\n",
        "print(\"Employee Salary:\", e.calculate_salary())\n",
        "\n",
        "m = Manager(40, 100, 2000)\n",
        "print(\"Manager Salary:\", m.calculate_salary())\n"
      ],
      "metadata": {
        "colab": {
          "base_uri": "https://localhost:8080/"
        },
        "id": "8nkEl4nN2LFc",
        "outputId": "68d2dd3c-0bd7-4c3c-aae8-f35ba0e481fb"
      },
      "execution_count": null,
      "outputs": [
        {
          "output_type": "stream",
          "name": "stdout",
          "text": [
            "Employee Salary: 4000\n",
            "Manager Salary: 6000\n"
          ]
        }
      ]
    },
    {
      "cell_type": "code",
      "source": [
        "# Q15- Create a class Product with attributes name, price, and quantity. Implement a method total_price() that calculates the total price of the product.\n",
        "# Answer (Q15)-\n",
        "class Product:\n",
        "    def __init__(self, name, price, quantity):\n",
        "        self.name = name\n",
        "        self.price = price\n",
        "        self.quantity = quantity\n",
        "\n",
        "    def total_price(self):\n",
        "        return self.price * self.quantity\n",
        "\n",
        "# Example usage\n",
        "p = Product(\"Notebook\", 50, 10)\n",
        "print(\"Total Price:\", p.total_price())\n"
      ],
      "metadata": {
        "colab": {
          "base_uri": "https://localhost:8080/"
        },
        "id": "83AVrOzU2kk3",
        "outputId": "54ffdd98-96fb-47aa-dbf2-11cbf3f4efb2"
      },
      "execution_count": null,
      "outputs": [
        {
          "output_type": "stream",
          "name": "stdout",
          "text": [
            "Total Price: 500\n"
          ]
        }
      ]
    },
    {
      "cell_type": "code",
      "source": [
        "# Q16- Create a class Animal with an abstract method sound(). Create two derived classes Cow and Sheep that implement the sound() method.\n",
        "# Answer (Q16)-\n",
        "from abc import ABC, abstractmethod\n",
        "\n",
        "# Abstract base class\n",
        "class Animal(ABC):\n",
        "    @abstractmethod\n",
        "    def sound(self):\n",
        "        pass\n",
        "\n",
        "# Derived class Cow\n",
        "class Cow(Animal):\n",
        "    def sound(self):\n",
        "        print(\"Moo\")\n",
        "\n",
        "# Derived class Sheep\n",
        "class Sheep(Animal):\n",
        "    def sound(self):\n",
        "        print(\"Baa\")\n",
        "\n",
        "# Example usage\n",
        "c = Cow()\n",
        "c.sound()\n",
        "\n",
        "s = Sheep()\n",
        "s.sound()\n"
      ],
      "metadata": {
        "colab": {
          "base_uri": "https://localhost:8080/"
        },
        "id": "ilHS_mfg21He",
        "outputId": "e1b80cf9-50f1-41ce-e072-17657989cd43"
      },
      "execution_count": null,
      "outputs": [
        {
          "output_type": "stream",
          "name": "stdout",
          "text": [
            "Moo\n",
            "Baa\n"
          ]
        }
      ]
    },
    {
      "cell_type": "code",
      "source": [
        "# Q17- Create a class Book with attributes title, author, and year_published. Add a method get_book_info() that returns a formatted string with the book's details.\n",
        "# Answer (Q17)-\n",
        "class Book:\n",
        "    def __init__(self, title, author, year_published):\n",
        "        self.title = title\n",
        "        self.author = author\n",
        "        self.year_published = year_published\n",
        "\n",
        "    def get_book_info(self):\n",
        "        return f\"'{self.title}' by {self.author}, published in {self.year_published}\"\n",
        "\n",
        "# Example usage\n",
        "b = Book(\"Wings of Fire\", \"A.P.J. Abdul Kalam\", 1999)\n",
        "print(b.get_book_info())\n"
      ],
      "metadata": {
        "colab": {
          "base_uri": "https://localhost:8080/"
        },
        "id": "utTi9iK13FlU",
        "outputId": "4891d73e-81a2-4ee7-a2f9-35efe77a68b6"
      },
      "execution_count": null,
      "outputs": [
        {
          "output_type": "stream",
          "name": "stdout",
          "text": [
            "'Wings of Fire' by A.P.J. Abdul Kalam, published in 1999\n"
          ]
        }
      ]
    },
    {
      "cell_type": "code",
      "source": [
        "# Q18-Create a class House with attributes address and price. Create a derived class Mansion that adds an attribute number_of_rooms.\n",
        "# Answer (Q18)-\n",
        "class House:\n",
        "    def __init__(self, address, price):\n",
        "        self.address = address\n",
        "        self.price = price\n",
        "\n",
        "# Derived class\n",
        "class Mansion(House):\n",
        "    def __init__(self, address, price, number_of_rooms):\n",
        "        super().__init__(address, price)\n",
        "        self.number_of_rooms = number_of_rooms\n",
        "\n",
        "# Example usage\n",
        "m = Mansion(\"123 Ocean Drive\", 5000000, 10)\n",
        "print(\"Address:\", m.address)\n",
        "print(\"Price:\", m.price)\n",
        "print(\"Rooms:\", m.number_of_rooms)\n"
      ],
      "metadata": {
        "colab": {
          "base_uri": "https://localhost:8080/"
        },
        "id": "0DgyuvdH3UCY",
        "outputId": "0f763c2b-198c-434b-8173-76159892e89d"
      },
      "execution_count": null,
      "outputs": [
        {
          "output_type": "stream",
          "name": "stdout",
          "text": [
            "Address: 123 Ocean Drive\n",
            "Price: 5000000\n",
            "Rooms: 10\n"
          ]
        }
      ]
    }
  ]
}